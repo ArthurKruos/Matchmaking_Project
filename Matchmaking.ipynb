{
 "cells": [
  {
   "cell_type": "markdown",
   "metadata": {},
   "source": [
    "## **SEJA BEM VINDO AO MATCHMAKING**\n",
    "O matchmaking veio com o objetivo de conectar você ao seu DUO em jogos!"
   ]
  },
  {
   "cell_type": "markdown",
   "metadata": {},
   "source": [
    "# Criação da base do projeto"
   ]
  },
  {
   "cell_type": "code",
   "execution_count": 4,
   "metadata": {},
   "outputs": [],
   "source": [
    "# Importando algumas bibliotecas de uso\n",
    "import pandas as pd\n",
    "import numpy as np"
   ]
  },
  {
   "cell_type": "code",
   "execution_count": 5,
   "metadata": {},
   "outputs": [],
   "source": [
    "# Lista de dicionários (padrão) que irá armazenar os dados das pessoas que serão inseridas no sistema;\n",
    "users = [\n",
    "        {\"Nome\": \"Arthur Silva França\" , \"Idade\" : 19, \"Sexo\" : \"Masculino\", \"Gênero de jogo\" : \"FPS\", \"Jogo de busca\" : \"Valorant\", \"Nível ranked\" : \"Imortal\" , \"Função\" : \"Duelista\"},\n",
    "        {\"Nome\": \"Kaio Victor\" , \"Idade\" : 20, \"Sexo\" : \"Indefinido\", \"Gênero de jogo\" : \"MOBA\", \"Jogo de busca\" : \"Valorant\", \"Nível ranked\" : \"Não possui\" , \"Função\": \"Smoke\"},\n",
    "        {\"Nome\": \"André Victor\" , \"Idade\" : 19, \"Sexo\" : \"Feminino\", \"Gênero de jogo\" : \"MOBA\", \"Jogo de busca\" : \"League of Legends\", \"Nível ranked\" : \"Ferro\", \"Função\" : \"Top\"}\n",
    "]"
   ]
  },
  {
   "cell_type": "code",
   "execution_count": 11,
   "metadata": {},
   "outputs": [
    {
     "name": "stdout",
     "output_type": "stream",
     "text": [
      "Você realizou seu cadastro com sucesso!\n"
     ]
    },
    {
     "data": {
      "text/html": [
       "<div>\n",
       "<style scoped>\n",
       "    .dataframe tbody tr th:only-of-type {\n",
       "        vertical-align: middle;\n",
       "    }\n",
       "\n",
       "    .dataframe tbody tr th {\n",
       "        vertical-align: top;\n",
       "    }\n",
       "\n",
       "    .dataframe thead th {\n",
       "        text-align: right;\n",
       "    }\n",
       "</style>\n",
       "<table border=\"1\" class=\"dataframe\">\n",
       "  <thead>\n",
       "    <tr style=\"text-align: right;\">\n",
       "      <th></th>\n",
       "      <th>Nome</th>\n",
       "      <th>Idade</th>\n",
       "      <th>Sexo</th>\n",
       "      <th>Gênero de jogo</th>\n",
       "      <th>Jogo de busca</th>\n",
       "      <th>Nível ranked</th>\n",
       "      <th>Função</th>\n",
       "    </tr>\n",
       "  </thead>\n",
       "  <tbody>\n",
       "    <tr>\n",
       "      <th>0</th>\n",
       "      <td>Arthur Silva França</td>\n",
       "      <td>19</td>\n",
       "      <td>Masculino</td>\n",
       "      <td>FPS</td>\n",
       "      <td>Valorant</td>\n",
       "      <td>Imortal</td>\n",
       "      <td>Duelista</td>\n",
       "    </tr>\n",
       "    <tr>\n",
       "      <th>1</th>\n",
       "      <td>Kaio Victor</td>\n",
       "      <td>20</td>\n",
       "      <td>Indefinido</td>\n",
       "      <td>MOBA</td>\n",
       "      <td>Valorant</td>\n",
       "      <td>Não possui</td>\n",
       "      <td>Smoke</td>\n",
       "    </tr>\n",
       "    <tr>\n",
       "      <th>2</th>\n",
       "      <td>André Victor</td>\n",
       "      <td>19</td>\n",
       "      <td>Feminino</td>\n",
       "      <td>MOBA</td>\n",
       "      <td>League of Legends</td>\n",
       "      <td>Ferro</td>\n",
       "      <td>Top</td>\n",
       "    </tr>\n",
       "    <tr>\n",
       "      <th>3</th>\n",
       "      <td>francisco</td>\n",
       "      <td>29</td>\n",
       "      <td>MASCULINO</td>\n",
       "      <td>MOBA</td>\n",
       "      <td>LEAGUE OF LEGENDS</td>\n",
       "      <td>PRATA</td>\n",
       "      <td>TOP</td>\n",
       "    </tr>\n",
       "    <tr>\n",
       "      <th>4</th>\n",
       "      <td>joão</td>\n",
       "      <td>19</td>\n",
       "      <td>MASCULINO</td>\n",
       "      <td>MOBA</td>\n",
       "      <td>LEAGUE OF LEGENDS</td>\n",
       "      <td>PRATA</td>\n",
       "      <td>TOP</td>\n",
       "    </tr>\n",
       "  </tbody>\n",
       "</table>\n",
       "</div>"
      ],
      "text/plain": [
       "                  Nome  Idade        Sexo Gênero de jogo      Jogo de busca  \\\n",
       "0  Arthur Silva França     19   Masculino            FPS           Valorant   \n",
       "1          Kaio Victor     20  Indefinido           MOBA           Valorant   \n",
       "2         André Victor     19    Feminino           MOBA  League of Legends   \n",
       "3           francisco      29   MASCULINO           MOBA  LEAGUE OF LEGENDS   \n",
       "4                 joão     19   MASCULINO           MOBA  LEAGUE OF LEGENDS   \n",
       "\n",
       "  Nível ranked    Função  \n",
       "0      Imortal  Duelista  \n",
       "1   Não possui     Smoke  \n",
       "2        Ferro       Top  \n",
       "3        PRATA       TOP  \n",
       "4        PRATA       TOP  "
      ]
     },
     "metadata": {},
     "output_type": "display_data"
    }
   ],
   "source": [
    "# Função que irá adicionar os usuários dentro do dicionário;\n",
    "\n",
    "def cadastrar_user():\n",
    "    nome = input(\"Digite seu nome: \")\n",
    "    idade = int(input(\"Quantos anos você têm? \"))\n",
    "    sexo = input(\"Qual seu sexo? \")\n",
    "    genero_de_jogo = input(\"Qual gênero do jogo você está buscando? \")\n",
    "    jogo = input(\"Qual jogo você está buscando? \")\n",
    "    ranked = input(\"Qual seu nível em ranqueadas? \")\n",
    "    funcao = input(\"Qual sua função?(exemplo: duelista, top etc) \")\n",
    "    user_new = {\"Nome\": nome , \"Idade\" : idade, \"Sexo\" : sexo.upper(), \"Gênero de jogo\" : genero_de_jogo.upper(), \"Jogo de busca\" : jogo.upper(), \"Nível ranked\" : ranked.upper() , \"Função\" : funcao.upper()}\n",
    "    users.append(user_new)\n",
    "    print(\"Você realizou seu cadastro com sucesso!\")\n",
    "    display(pd.DataFrame(users))\n",
    "    return \n",
    "cadastrar_user()\n"
   ]
  },
  {
   "cell_type": "code",
   "execution_count": 12,
   "metadata": {},
   "outputs": [
    {
     "name": "stdout",
     "output_type": "stream",
     "text": [
      "Usuários encontrados:\n"
     ]
    },
    {
     "data": {
      "text/html": [
       "<div>\n",
       "<style scoped>\n",
       "    .dataframe tbody tr th:only-of-type {\n",
       "        vertical-align: middle;\n",
       "    }\n",
       "\n",
       "    .dataframe tbody tr th {\n",
       "        vertical-align: top;\n",
       "    }\n",
       "\n",
       "    .dataframe thead th {\n",
       "        text-align: right;\n",
       "    }\n",
       "</style>\n",
       "<table border=\"1\" class=\"dataframe\">\n",
       "  <thead>\n",
       "    <tr style=\"text-align: right;\">\n",
       "      <th></th>\n",
       "      <th>Nome</th>\n",
       "      <th>Idade</th>\n",
       "      <th>Sexo</th>\n",
       "      <th>Gênero de jogo</th>\n",
       "      <th>Jogo de busca</th>\n",
       "      <th>Nível ranked</th>\n",
       "      <th>Função</th>\n",
       "    </tr>\n",
       "  </thead>\n",
       "  <tbody>\n",
       "    <tr>\n",
       "      <th>0</th>\n",
       "      <td>francisco</td>\n",
       "      <td>29</td>\n",
       "      <td>MASCULINO</td>\n",
       "      <td>MOBA</td>\n",
       "      <td>LEAGUE OF LEGENDS</td>\n",
       "      <td>PRATA</td>\n",
       "      <td>TOP</td>\n",
       "    </tr>\n",
       "    <tr>\n",
       "      <th>1</th>\n",
       "      <td>joão</td>\n",
       "      <td>19</td>\n",
       "      <td>MASCULINO</td>\n",
       "      <td>MOBA</td>\n",
       "      <td>LEAGUE OF LEGENDS</td>\n",
       "      <td>PRATA</td>\n",
       "      <td>TOP</td>\n",
       "    </tr>\n",
       "  </tbody>\n",
       "</table>\n",
       "</div>"
      ],
      "text/plain": [
       "         Nome  Idade       Sexo Gênero de jogo      Jogo de busca  \\\n",
       "0  francisco      29  MASCULINO           MOBA  LEAGUE OF LEGENDS   \n",
       "1        joão     19  MASCULINO           MOBA  LEAGUE OF LEGENDS   \n",
       "\n",
       "  Nível ranked Função  \n",
       "0        PRATA    TOP  \n",
       "1        PRATA    TOP  "
      ]
     },
     "metadata": {},
     "output_type": "display_data"
    }
   ],
   "source": [
    "# Função def busca_sequencial()\n",
    "\n",
    "def busca_sequencial():\n",
    "    jogo_procurado = input('Digite o jogo que você está buscando: ').capitalize()\n",
    "    ranked_procurado = input('Digite o nível ranked que você está buscando: ').capitalize()\n",
    "    funcao_procurada = input('Digite a função que você está buscando para ser seu duo: ').capitalize()\n",
    "\n",
    "    encontrou = False\n",
    "    resultados = []\n",
    "\n",
    "    for user in users:\n",
    "        if (user['Jogo de busca'].capitalize() == jogo_procurado and\n",
    "            user['Nível ranked'].capitalize() == ranked_procurado and\n",
    "            user['Função'].capitalize() == funcao_procurada):\n",
    "            resultados.append(user)\n",
    "            encontrou = True\n",
    "\n",
    "    if encontrou:\n",
    "        print('Usuários encontrados:')\n",
    "        display(pd.DataFrame(resultados))\n",
    "    else:\n",
    "        print('Nenhum usuário encontrado com os critérios especificados.')\n",
    "\n",
    "busca_sequencial()"
   ]
  },
  {
   "cell_type": "code",
   "execution_count": 1,
   "metadata": {},
   "outputs": [
    {
     "name": "stdout",
     "output_type": "stream",
     "text": [
      "Calculadora...\n"
     ]
    }
   ],
   "source": [
    "# Função def calculadora_similaridade()\n",
    "def calculadora_similaridade():\n",
    "    print(\"Calculadora...\")\n",
    "\n",
    "calculadora_similaridade()"
   ]
  },
  {
   "cell_type": "code",
   "execution_count": 1,
   "metadata": {},
   "outputs": [],
   "source": [
    "# Função def quicksort(a,b)\n",
    "\n",
    "def quicksort(a,b):\n",
    "    print('testando att')"
   ]
  }
 ],
 "metadata": {
  "kernelspec": {
   "display_name": "Python 3",
   "language": "python",
   "name": "python3"
  },
  "language_info": {
   "codemirror_mode": {
    "name": "ipython",
    "version": 3
   },
   "file_extension": ".py",
   "mimetype": "text/x-python",
   "name": "python",
   "nbconvert_exporter": "python",
   "pygments_lexer": "ipython3",
   "version": "3.12.1"
  }
 },
 "nbformat": 4,
 "nbformat_minor": 2
}
